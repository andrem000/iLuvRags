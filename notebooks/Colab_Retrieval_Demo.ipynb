{
  "cells": [
    {
      "cell_type": "markdown",
      "metadata": {},
      "source": [
        "# iLuvRags: Retrieval, Rerank, and Evaluation (Colab)\n",
        "\n",
        "This notebook focuses on retrieval and re-ranking. Ingestion and indexing are assumed to be already done in the repo (`index/` is present).\n",
        "\n",
        "Sections:\n",
        "- Setup (install)\n",
        "- Sanity check (index present)\n",
        "- Batch queries demo (pretty print + timings)\n",
        "- Evaluation (Recall@k, MRR) if labels are provided\n"
      ]
    },
    {
      "cell_type": "code",
      "execution_count": null,
      "metadata": {},
      "outputs": [],
      "source": [
        "# Setup\n",
        "REPO_URL = \"https://github.com/andrem000/iLuvRags.git\"\n",
        "!git clone -q $REPO_URL\n",
        "%cd iLuvRags\n",
        "!pip install -q -r requirements.txt\n"
      ]
    },
    {
      "cell_type": "code",
      "execution_count": null,
      "metadata": {},
      "outputs": [],
      "source": [
        "# Sanity check: index artifacts present?\n",
        "import os, json\n",
        "\n",
        "required = [\n",
        "    \"index/faiss.index\",\n",
        "    \"index/embeddings.npy\",\n",
        "    \"index/metadata.json\",\n",
        "    \"index/texts.json\",\n",
        "]\n",
        "missing = [p for p in required if not os.path.exists(p)]\n",
        "print(\"Missing:\" if missing else \"All good.\", missing)\n"
      ]
    },
    {
      "cell_type": "code",
      "execution_count": null,
      "metadata": {},
      "outputs": [],
      "source": [
        "# Batch queries demo (pretty print + timings)\n",
        "!python scripts/main.py --queries data/queries.json --device cuda --pretty --llm Qwen/Qwen2.5-3B-Instruct\n"
      ]
    },
    {
      "cell_type": "code",
      "execution_count": null,
      "metadata": {},
      "outputs": [],
      "source": [
        "# Evaluation (only if labels file exists) with chart\n",
        "import os\n",
        "labels_csv = \"data/labels.csv\"\n",
        "if os.path.exists(labels_csv):\n",
        "    !python scripts/eval_retrieval.py --queries_json data/queries.json --labels_csv data/labels.csv --k 10 --chart\n",
        "else:\n",
        "    print(\"No labels.csv present; skip eval.\")\n"
      ]
    },
    {
      "cell_type": "markdown",
      "metadata": {},
      "source": [
        "# Alpha sweeper (choose best fusion α)\n",
        "Runs the sweeper over a small grid and plots Recall@k vs α for Tier1/Tier2.\n"
      ]
    },
    {
      "cell_type": "code",
      "execution_count": null,
      "metadata": {},
      "outputs": [],
      "source": [
        "# Run alpha sweeper (requires labels)\n",
        "import os\n",
        "if os.path.exists(\"data/labels.csv\"):\n",
        "    !python scripts/alpha_sweeper.py --queries_json data/queries.json --labels_csv data/labels.csv --k 10 --alphas 0.5,0.65,0.7,0.8 --chart\n",
        "else:\n",
        "    print(\"No labels.csv present; skip alpha sweeper.\")\n"
      ]
    }
  ],
  "metadata": {
    "language_info": {
      "name": "python"
    }
  },
  "nbformat": 4,
  "nbformat_minor": 2
}
